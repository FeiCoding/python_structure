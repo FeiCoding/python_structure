{
 "cells": [
  {
   "cell_type": "code",
   "execution_count": 6,
   "metadata": {
    "collapsed": true
   },
   "outputs": [],
   "source": [
    "class LinkedNode:\n",
    "    def __init__(self,data,nextNode=None):\n",
    "        self.data = data\n",
    "        self.nextNode = nextNode\n",
    "\n",
    "    def getData(self):\n",
    "        return self.data\n",
    "\n",
    "    def setData(self,val):\n",
    "        self.data = val\n",
    "\n",
    "    def getNextNode(self):\n",
    "        return self.nextNode\n",
    "\n",
    "    def setNextNode(self,val):\n",
    "        self.nextNode = val\n",
    "\n",
    "class LinkedList:\n",
    "\n",
    "    def __init__(self,head = None):\n",
    "        self.head = head\n",
    "        self.size = 0\n",
    "\n",
    "    def getSize(self):\n",
    "        return self.size\n",
    "\n",
    "    def addNode(self,data):\n",
    "        newNode = LinkedNode(data,self.head)\n",
    "        self.head = newNode\n",
    "        self.size+=1\n",
    "        return True\n",
    "\n",
    "    def printNode(self):\n",
    "        curr = self.head\n",
    "        while curr:\n",
    "            print(curr.data)\n",
    "            curr = curr.getNextNode()"
   ]
  }
 ],
 "metadata": {
  "kernelspec": {
   "display_name": "Python 3",
   "language": "python",
   "name": "python3"
  },
  "language_info": {
   "codemirror_mode": {
    "name": "ipython",
    "version": 3
   },
   "file_extension": ".py",
   "mimetype": "text/x-python",
   "name": "python",
   "nbconvert_exporter": "python",
   "pygments_lexer": "ipython3",
   "version": "3.6.3"
  }
 },
 "nbformat": 4,
 "nbformat_minor": 2
}
