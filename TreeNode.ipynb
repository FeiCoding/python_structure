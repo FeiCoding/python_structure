{
 "cells": [
  {
   "cell_type": "code",
   "execution_count": null,
   "metadata": {
    "collapsed": true
   },
   "outputs": [],
   "source": [
    "#visualize the tree stuctures\n",
    "class Node:\n",
    "    def __init__(self, left=None, right=None):\n",
    "        self.value = value\n",
    "        self.left = None\n",
    "        self.right = None\n",
    "    def insert(self, value):\n",
    "        if self.value:\n",
    "            if self.value > value:\n",
    "                if self.left is None:\n",
    "                    self.left = Node(value);\n",
    "                else\n",
    "                \n",
    "        else:\n",
    "            self = Node(value)\n",
    "root = Tree('parrt',\n",
    "            Tree('mary',\n",
    "                 Tree('jim',\n",
    "                      Tree('srinivasan'),\n",
    "                      Tree('april'))),\n",
    "            Tree('xue',None,Tree('mike')))\n",
    "\n",
    "treeviz(root)"
   ]
  }
 ],
 "metadata": {
  "kernelspec": {
   "display_name": "Python 3",
   "language": "python",
   "name": "python3"
  },
  "language_info": {
   "codemirror_mode": {
    "name": "ipython",
    "version": 3
   },
   "file_extension": ".py",
   "mimetype": "text/x-python",
   "name": "python",
   "nbconvert_exporter": "python",
   "pygments_lexer": "ipython3",
   "version": "3.6.3"
  }
 },
 "nbformat": 4,
 "nbformat_minor": 2
}
