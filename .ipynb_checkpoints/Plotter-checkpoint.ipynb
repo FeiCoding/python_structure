{
 "cells": [
  {
   "cell_type": "code",
   "execution_count": 2,
   "metadata": {
    "collapsed": true
   },
   "outputs": [],
   "source": [
    "import matplotlib.pyplot as plt\n",
    "from IPython.display import HTML, display\n",
    "import tabulate"
   ]
  },
  {
   "cell_type": "code",
   "execution_count": 10,
   "metadata": {
    "collapsed": true
   },
   "outputs": [],
   "source": [
    "class Plotter:\n",
    "    def __init__(self):\n",
    "        self.table_plot = [[]]\n",
    "        \n",
    "    def diagram_plot(self, time, name, operation_name):\n",
    "        fig, ax = plt.subplots()\n",
    "        print(time)\n",
    "        index = range(len(name))\n",
    "        \n",
    "        print(index)\n",
    "        ax.bar(index, time)\n",
    "        ax.set_xticks(range(len(name)))\n",
    "        ax.set_xticklabels(name)\n",
    "        ax.set_xlabel('Data Structure Name', weight='semibold')\n",
    "        ax.set_ylabel('Time (Millisecond)', weight='semibold')\n",
    "        ax.set_title(operation_name + \" of Different Data Structure\", fontsize=15)\n",
    "        for a,b in zip(index, time):\n",
    "            plt.text(a - 0.3, b + 0.0003, str(b))\n",
    "        plt.show()\n",
    "    \n",
    "    def table_plot(self, time, name, operation_name):\n",
    "        table_plot = [['Name', operation_name]]\n",
    "        for i in range(len(name)):\n",
    "            table_plot.append([name[i], time[i]])\n",
    "        display(HTML(tabulate.tabulate(table_plot, tablefmt='html')))"
   ]
  }
 ],
 "metadata": {
  "kernelspec": {
   "display_name": "Python 3",
   "language": "python",
   "name": "python3"
  },
  "language_info": {
   "codemirror_mode": {
    "name": "ipython",
    "version": 3
   },
   "file_extension": ".py",
   "mimetype": "text/x-python",
   "name": "python",
   "nbconvert_exporter": "python",
   "pygments_lexer": "ipython3",
   "version": "3.6.3"
  }
 },
 "nbformat": 4,
 "nbformat_minor": 2
}
